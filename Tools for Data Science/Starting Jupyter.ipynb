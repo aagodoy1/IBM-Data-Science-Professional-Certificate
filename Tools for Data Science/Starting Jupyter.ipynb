{
 "cells": [
  {
   "cell_type": "markdown",
   "metadata": {},
   "source": [
    "# My Jupeter Notebook on IBM Watson Studio"
   ]
  },
  {
   "cell_type": "markdown",
   "metadata": {},
   "source": [
    "**Adolfo Godoy Araos**: Data Analyst"
   ]
  },
  {
   "cell_type": "markdown",
   "metadata": {},
   "source": [
    "_I am interested in data science because I think sooner than later many companies around the world are going to leave behind the old methods of analysis and use of information, to start using more developed tools._"
   ]
  },
  {
   "cell_type": "markdown",
   "metadata": {},
   "source": [
    "### Fibonacci Sequence: Including number 0"
   ]
  },
  {
   "cell_type": "code",
   "execution_count": 7,
   "metadata": {},
   "outputs": [
    {
     "name": "stdout",
     "output_type": "stream",
     "text": [
      "[0, 1, 1, 2, 3, 5, 8, 13, 21, 34]\n"
     ]
    }
   ],
   "source": [
    "i = 0\n",
    "number = 10\n",
    "lista = [0]\n",
    "while i < number-1:\n",
    "    if len(lista) == 1:\n",
    "        new = 1\n",
    "    else:\n",
    "        new = lista[-1] + lista[-2]\n",
    "    lista.append(new)\n",
    "    i += 1\n",
    "print(lista)"
   ]
  },
  {
   "cell_type": "markdown",
   "metadata": {},
   "source": [
    "Fibonacci Sequence (LINK): https://www.mathsisfun.com/numbers/fibonacci-sequence.html\n",
    "\n",
    "Table of the first numbers of the fibonacci sequence(Table):\n",
    "\n",
    "| Index | Value | \n",
    "| --- | --- |\n",
    "| 0 | 0 |\n",
    "| 1 | 1 |\n",
    "| 2 | 1 |\n",
    "| 3 | 2 |\n",
    "| 4 | 3 |\n",
    "| 5 | 5 |\n",
    "| 6 | 8 |\n",
    "\n",
    "\n",
    "Best languages for Data Science(Bulleted list): \n",
    "- Python\n",
    "- R\n",
    "- Java Script\n"
   ]
  }
 ],
 "metadata": {
  "kernelspec": {
   "display_name": "Python",
   "language": "python",
   "name": "conda-env-python-py"
  },
  "language_info": {
   "codemirror_mode": {
    "name": "ipython",
    "version": 3
   },
   "file_extension": ".py",
   "mimetype": "text/x-python",
   "name": "python",
   "nbconvert_exporter": "python",
   "pygments_lexer": "ipython3",
   "version": "3.7.12"
  }
 },
 "nbformat": 4,
 "nbformat_minor": 4
}
